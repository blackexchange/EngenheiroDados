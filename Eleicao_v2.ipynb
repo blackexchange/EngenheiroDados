{
  "nbformat": 4,
  "nbformat_minor": 0,
  "metadata": {
    "colab": {
      "provenance": [],
      "authorship_tag": "ABX9TyODh2Gd5YpPmQTcq2b/kpuW",
      "include_colab_link": true
    },
    "kernelspec": {
      "name": "python3",
      "display_name": "Python 3"
    },
    "language_info": {
      "name": "python"
    }
  },
  "cells": [
    {
      "cell_type": "markdown",
      "metadata": {
        "id": "view-in-github",
        "colab_type": "text"
      },
      "source": [
        "<a href=\"https://colab.research.google.com/github/blackexchange/EngenheiroDados/blob/main/Eleicao_v2.ipynb\" target=\"_parent\"><img src=\"https://colab.research.google.com/assets/colab-badge.svg\" alt=\"Open In Colab\"/></a>"
      ]
    },
    {
      "cell_type": "code",
      "source": [
        "!pip install py7zr;"
      ],
      "metadata": {
        "id": "M9yHxuwOiWKX"
      },
      "execution_count": null,
      "outputs": []
    },
    {
      "cell_type": "markdown",
      "source": [],
      "metadata": {
        "id": "awH5ciw1g3hm"
      }
    },
    {
      "cell_type": "code",
      "execution_count": 3,
      "metadata": {
        "id": "_6jzn-wPgbuA",
        "colab": {
          "base_uri": "https://localhost:8080/"
        },
        "outputId": "a1c94bcb-4800-40db-8741-fe8870c36d0e"
      },
      "outputs": [
        {
          "output_type": "stream",
          "name": "stdout",
          "text": [
            "Mounted at /content/drive\n"
          ]
        }
      ],
      "source": [
        "\n",
        "import requests\n",
        "import os\n",
        "from bs4 import BeautifulSoup\n",
        "import glob\n",
        "import os\n",
        "import pandas as pd\n",
        "from google.colab import drive\n",
        "import py7zr\n",
        "import re\n",
        "\n",
        "drive.mount('/content/drive', force_remount=True)\n",
        "\n",
        "import zipfile\n",
        "\n"
      ]
    },
    {
      "cell_type": "code",
      "source": [
        "def rename_function(file_name):\n",
        "    # Esta função renomeia o arquivo. Altere conforme sua necessidade.\n",
        "    # Por exemplo, este código acrescenta \"_renamed\" antes da extensão:\n",
        "    base, ext = os.path.splitext(file_name)\n",
        "    return base + '.csv'"
      ],
      "metadata": {
        "id": "Dr3uC5hxe3oi"
      },
      "execution_count": 61,
      "outputs": []
    },
    {
      "cell_type": "code",
      "source": [
        "def un7(folder, file):\n",
        "\n",
        "  if file.endswith('.logsajez'):\n",
        "    with py7zr.SevenZipFile(file, mode='r') as z:\n",
        "        z.extractall(folder)\n",
        "        return True\n",
        "  return False\n"
      ],
      "metadata": {
        "id": "eKxB3WvO0fqJ"
      },
      "execution_count": 102,
      "outputs": []
    },
    {
      "cell_type": "code",
      "source": [
        "def unzip(file):\n",
        "\n",
        "  match = re.search(r'(\\d{4}_\\d{1}t_[A-Z]{2})', file)\n",
        "  if match:\n",
        "      destiny = match.group(1)\n",
        "\n",
        "      if not os.path.exists(destiny):\n",
        "        os.makedirs(destiny)\n",
        "\n",
        "      with zipfile.ZipFile(file, 'r') as zip_ref:\n",
        "        for file in zip_ref.namelist():\n",
        "          if file.endswith('.logsajez'):\n",
        "              zip_ref.extract(file, destiny)\n",
        "\n",
        "      processar(destiny)"
      ],
      "metadata": {
        "id": "x_2w9sJXoHzf"
      },
      "execution_count": 130,
      "outputs": []
    },
    {
      "cell_type": "code",
      "source": [
        "def processar(folder):\n",
        "    df = pd.DataFrame()\n",
        "    fileA = os.listdir(folder)\n",
        "    files = [f for f in fileA if \".logsajez\" in f]\n",
        "    print (files)\n",
        "    #[un7(folder+\"/\"+arquivo) for arquivo in files]\n",
        "\n",
        "    for arquivo in files:\n",
        "\n",
        "      if un7(folder, folder+\"/\" + arquivo):\n",
        "        dfa = lerLog(folder+\"/logd.dat\")\n",
        "\n",
        "        #df.append(dfa)\n",
        "\n",
        "        df = pd.concat([df, dfa], ignore_index=True)\n",
        "\n",
        "        os.remove(folder+\"/logd.dat\")\n",
        "\n",
        "    df.to_csv(folder+\".csv\")\n",
        "\n",
        "\n",
        "    #[os.remove(folder+\"/\"+arquivo) for arquivo in files]\n",
        "\n",
        ""
      ],
      "metadata": {
        "id": "aI4NV54cydDf"
      },
      "execution_count": 132,
      "outputs": []
    },
    {
      "cell_type": "markdown",
      "source": [],
      "metadata": {
        "id": "l2NFCzKBg1J7"
      }
    },
    {
      "cell_type": "code",
      "source": [
        "def lerLog(file):\n",
        "# Caminho do arquivo\n",
        "  arquivo_path = file\n",
        "\n",
        "  # Carregar o arquivo em um DataFrame\n",
        "  df = pd.read_csv(arquivo_path, encoding='ISO-8859-1',  delimiter='\\t', names=['DataHora', 'LogType', 'Codigo', 'Origem', 'Mensagem', 'Hash'],parse_dates=['DataHora'])\n",
        "  #df.to_csv(\"file_voto.csv\")\n",
        "  return df"
      ],
      "metadata": {
        "id": "vU3J1Soc2ZB7"
      },
      "execution_count": 8,
      "outputs": []
    },
    {
      "cell_type": "code",
      "source": [
        "url = \"https://dadosabertos.tse.jus.br/dataset/resultados-2022-arquivos-transmitidos-para-totalizacao\"\n",
        "\n",
        "response = requests.get(url)\n",
        "\n",
        "soup = BeautifulSoup(response.content, \"html.parser\")\n",
        "\n"
      ],
      "metadata": {
        "id": "5_qHzWoUjkyx"
      },
      "execution_count": 9,
      "outputs": []
    },
    {
      "cell_type": "code",
      "source": [
        "ul = soup.find('ul', class_='resource-list')\n",
        "lis = ul.find_all(\"li\")"
      ],
      "metadata": {
        "id": "dDA6AFhrj0lK"
      },
      "execution_count": 10,
      "outputs": []
    },
    {
      "cell_type": "code",
      "source": [
        "la = [lis[167]]\n",
        "import py7zr"
      ],
      "metadata": {
        "id": "capkf6Qul3x8"
      },
      "execution_count": null,
      "outputs": []
    },
    {
      "cell_type": "code",
      "source": [
        "import pandas as pd"
      ],
      "metadata": {
        "id": "0CexaJuvsyAW"
      },
      "execution_count": null,
      "outputs": []
    },
    {
      "cell_type": "code",
      "source": [
        "uf='ZZ'\n",
        "turno='Segundo turno'\n",
        "ano='2022'\n",
        "\n",
        "for li in lis:\n",
        "\n",
        "    link = li.find('a', class_='heading')\n",
        "    if link:\n",
        "      title = link['title']\n",
        "\n",
        "      print(title)\n",
        "      if turno in title and ano in title and (uf=='' or uf == title[:2] ):\n",
        "\n",
        "          linkCdn = li.find('a', class_='resource-url-analytics')\n",
        "\n",
        "          if linkCdn:\n",
        "            linkFile = linkCdn['href']\n",
        "\n",
        "\n",
        "          if linkFile.endswith('zip'):\n",
        "\n",
        "              file_name = linkFile.split(\"/\")[-1]\n",
        "\n",
        "              if os.path.exists(file_name):\n",
        "                os.remove(file_name)\n",
        "\n",
        "              print(\"Baixando \" + file_name)\n",
        "\n",
        "              response = requests.get(linkFile, stream=True)\n",
        "\n",
        "              print(\"Gravando \" + file_name)\n",
        "              with open(file_name, 'wb') as f:\n",
        "                  for chunk in response.iter_content(chunk_size=8192):  # Definido para baixar em pedaços de 8KB\n",
        "                      f.write(chunk)\n",
        "              unzip(file_name)\n",
        "\n",
        "\n"
      ],
      "metadata": {
        "colab": {
          "base_uri": "https://localhost:8080/"
        },
        "id": "C7PKAVIqj2b5",
        "outputId": "445fa5d5-d4fd-4d71-98e1-7702b41708f5"
      },
      "execution_count": 134,
      "outputs": [
        {
          "output_type": "stream",
          "name": "stdout",
          "text": [
            "AC - Arquivos transmitidos para totalização - Primeiro turno - 06.10.2022\n",
            "AC - Arquivos transmitidos para totalização - Segundo turno - 02.11.2022\n",
            "AL - Arquivos transmitidos para totalização - Primeiro turno - 06.10.2022\n",
            "AL - Arquivos transmitidos para totalização - Segundo turno - 02.11.2022\n",
            "AM - Arquivos transmitidos para totalização - Primeiro turno - 06.10.2022\n",
            "AM - Arquivos transmitidos para totalização - Segundo turno - 02.11.2022\n",
            "AP - Arquivos transmitidos para totalização - Primeiro turno - 06.10.2022\n",
            "AP - Arquivos transmitidos para totalização - Segundo turno - 02.11.2022\n",
            "BA - Arquivos transmitidos para totalização - Primeiro turno - 06.10.2022\n",
            "BA - Arquivos transmitidos para totalização - Segundo turno - 02.11.2022\n",
            "CE - Arquivos transmitidos para totalização - Primeiro turno - 06.10.2022\n",
            "CE - Arquivos transmitidos para totalização - Segundo turno - 02.11.2022\n",
            "DF - Arquivos transmitidos para totalização - Primeiro turno - 06.10.2022\n",
            "DF - Arquivos transmitidos para totalização - Segundo turno - 02.11.2022\n",
            "ES - Arquivos transmitidos para totalização - Primeiro turno - 06.10.2022\n",
            "ES - Arquivos transmitidos para totalização - Segundo turno - 02.11.2022\n",
            "GO - Arquivos transmitidos para totalização - Primeiro turno - 06.10.2022\n",
            "GO - Arquivos transmitidos para totalização - Segundo turno - 02.11.2022\n",
            "MA - Arquivos transmitidos para totalização - Primeiro turno - 06.10.2022\n",
            "MA - Arquivos transmitidos para totalização - Segundo turno - 02.11.2022\n",
            "MG - Arquivos transmitidos para totalização - Primeiro turno - 06.10.2022\n",
            "MG - Arquivos transmitidos para totalização - Segundo turno - 02.11.2022\n",
            "MS - Arquivos transmitidos para totalização - Primeiro turno - 06.10.2022\n",
            "MS - Arquivos transmitidos para totalização - Segundo turno - 02.11.2022\n",
            "MT - Arquivos transmitidos para totalização - Primeiro turno - 06.10.2022\n",
            "MT - Arquivos transmitidos para totalização - Segundo turno - 02.11.2022\n",
            "PA - Arquivos transmitidos para totalização - Primeiro turno - 06.10.2022\n",
            "PA - Arquivos transmitidos para totalização - Segundo turno - 02.11.2022\n",
            "PB - Arquivos transmitidos para totalização - Primeiro turno - 06.10.2022\n",
            "PB - Arquivos transmitidos para totalização - Segundo turno - 02.11.2022\n",
            "PE - Arquivos transmitidos para totalização - Primeiro turno - 06.10.2022\n",
            "PE - Arquivos transmitidos para totalização - Segundo turno - 02.11.2022\n",
            "PI - Arquivos transmitidos para totalização - Primeiro turno - 06.10.2022\n",
            "PI - Arquivos transmitidos para totalização - Segundo turno - 02.11.2022\n",
            "PR - Arquivos transmitidos para totalização - Primeiro turno - 06.10.2022\n",
            "PR - Arquivos transmitidos para totalização - Segundo turno - 02.11.2022\n",
            "RJ - Arquivos transmitidos para totalização - Primeiro turno - 06.10.2022\n",
            "RJ - Arquivos transmitidos para totalização - Segundo turno - 02.11.2022\n",
            "RN - Arquivos transmitidos para totalização - Primeiro turno - 06.10.2022\n",
            "RN - Arquivos transmitidos para totalização - Segundo turno - 02.11.2022\n",
            "RO - Arquivos transmitidos para totalização - Primeiro turno - 06.10.2022\n",
            "RO - Arquivos transmitidos para totalização - Segundo turno - 02.11.2022\n",
            "RR - Arquivos transmitidos para totalização - Primeiro turno - 06.10.2022\n",
            "RR - Arquivos transmitidos para totalização - Segundo turno - 02.11.2022\n",
            "RS - Arquivos transmitidos para totalização - Primeiro turno - 06.10.2022\n",
            "RS - Arquivos transmitidos para totalização - Segundo turno - 02.11.2022\n",
            "SC - Arquivos transmitidos para totalização - Primeiro turno - 06.10.2022\n",
            "SC - Arquivos transmitidos para totalização - Segundo turno - 02.11.2022\n",
            "SE - Arquivos transmitidos para totalização - Primeiro turno - 06.10.2022\n",
            "SE - Arquivos transmitidos para totalização - Segundo turno - 02.11.2022\n",
            "SP - Arquivos transmitidos para totalização - Primeiro turno - 06.10.2022\n",
            "SP - Arquivos transmitidos para totalização - Segundo turno - 02.11.2022\n",
            "TO - Arquivos transmitidos para totalização - Primeiro turno - 06.10.2022\n",
            "TO - Arquivos transmitidos para totalização - Segundo turno - 02.11.2022\n",
            "ZZ - Arquivos transmitidos para totalização - Primeiro turno - 06.10.2022\n",
            "ZZ - Arquivos transmitidos para totalização - Segundo turno - 02.11.2022\n",
            "Baixando bu_imgbu_logjez_rdv_vscmr_2022_2t_ZZ.zip\n",
            "Gravando bu_imgbu_logjez_rdv_vscmr_2022_2t_ZZ.zip\n",
            "['o00407-9947300011327.logsajez', 'o00407-2927000010003.logsajez', 'o00407-2991200010150.logsajez', 'o00407-3896200010558.logsajez', 'o00407-2929700010495.logsajez', 'o00407-2988200010390.logsajez', 'o00407-3906300013030.logsajez', 'o00407-3902000011004.logsajez', 'o00407-2964500010380.logsajez', 'o00407-3059700011182.logsajez', 'o00407-3910200010712.logsajez', 'o00407-3016300010647.logsajez', 'o00407-3070800010444.logsajez', 'o00407-2925400010001.logsajez', 'o00407-9915500011504.logsajez', 'o00407-2958000010096.logsajez', 'o00407-3080500011693.logsajez', 'o00407-3043000010384.logsajez', 'o00407-3082100011524.logsajez', 'o00407-9928700011259.logsajez', 'o00407-2917300010494.logsajez', 'o00407-3054600011764.logsajez', 'o00407-2939400010028.logsajez', 'o00407-3017100011340.logsajez', 'o00407-3932200010490.logsajez', 'o00407-3090200013134.logsajez', 'o00407-9918000011228.logsajez', 'o00407-2937800011735.logsajez', 'o00407-2987400010146.logsajez', 'o00407-2977700010127.logsajez', 'o00407-2975000011703.logsajez', 'o00407-3033300010353.logsajez', 'o00407-3063500011231.logsajez']\n"
          ]
        }
      ]
    },
    {
      "cell_type": "code",
      "source": [
        "import re\n",
        "unzip (\"bu_imgbu_logjez_rdv_vscmr_2022_2t_ZZ.zip\")"
      ],
      "metadata": {
        "colab": {
          "base_uri": "https://localhost:8080/"
        },
        "id": "sKh3x9HVkg3R",
        "outputId": "075c792d-a361-4de2-cdf9-bdc9cf67820d"
      },
      "execution_count": 133,
      "outputs": [
        {
          "output_type": "stream",
          "name": "stdout",
          "text": [
            "['o00407-9947300011327.logsajez', 'o00407-2927000010003.logsajez', 'o00407-2991200010150.logsajez', 'o00407-3896200010558.logsajez', 'o00407-2929700010495.logsajez', 'o00407-2988200010390.logsajez', 'o00407-3906300013030.logsajez', 'o00407-3902000011004.logsajez', 'o00407-2964500010380.logsajez', 'o00407-3059700011182.logsajez', 'o00407-3910200010712.logsajez', 'o00407-3016300010647.logsajez', 'o00407-3070800010444.logsajez', 'o00407-2925400010001.logsajez', 'o00407-9915500011504.logsajez', 'o00407-2958000010096.logsajez', 'o00407-3080500011693.logsajez', 'o00407-3043000010384.logsajez', 'o00407-3082100011524.logsajez', 'o00407-9928700011259.logsajez', 'o00407-2917300010494.logsajez', 'o00407-3054600011764.logsajez', 'o00407-2939400010028.logsajez', 'o00407-3017100011340.logsajez', 'o00407-3932200010490.logsajez', 'o00407-3090200013134.logsajez', 'o00407-9918000011228.logsajez', 'o00407-2937800011735.logsajez', 'o00407-2987400010146.logsajez', 'o00407-2977700010127.logsajez', 'o00407-2975000011703.logsajez', 'o00407-3033300010353.logsajez', 'o00407-3063500011231.logsajez']\n"
          ]
        }
      ]
    },
    {
      "cell_type": "code",
      "source": [
        "processar('/content/2022_2t_ZZ_')"
      ],
      "metadata": {
        "id": "dm2GvFz0mnoT"
      },
      "execution_count": 41,
      "outputs": []
    },
    {
      "cell_type": "code",
      "source": [],
      "metadata": {
        "id": "fOa3hGSK4bB9"
      },
      "execution_count": null,
      "outputs": []
    }
  ]
}